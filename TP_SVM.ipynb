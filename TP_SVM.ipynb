{
 "cells": [
  {
   "cell_type": "code",
   "execution_count": null,
   "id": "a4022a10",
   "metadata": {
    "scrolled": false
   },
   "outputs": [
    {
     "name": "stdout",
     "output_type": "stream",
     "text": [
      "Chargement de : obj_car\n",
      "Images chargés avec succés\n",
      "\n",
      "Chargement de : obj_ship\n",
      "Images chargés avec succés\n",
      "\n"
     ]
    }
   ],
   "source": [
    "\n",
    "import os\n",
    "from sklearn import svm\n",
    "from skimage.io import imread\n",
    "import numpy as np\n",
    "import cv2\n",
    "import matplotlib.pyplot as plt\n",
    "\n",
    "Vehicules = ['Voiture','Bateau']\n",
    "flat_data_arr=[] #entrée \n",
    "target_arr=[] #sortie\n",
    "#chemin qui contient les types de véhicules :\n",
    "datadir='Database/' \n",
    "for i in Vehicules:\n",
    "    print(f'Chargement de : {i}')\n",
    "    path=os.path.join(datadir,i)\n",
    "    for img in os.listdir(path):\n",
    "        img_array=imread(os.path.join(path,img))\n",
    "        ret,img_binarised =cv2.threshold(img_array,128,1,cv2.THRESH_BINARY)\n",
    "        flat_data_arr.append(img_binarised.flatten())\n",
    "        target_arr.append(Vehicules.index(i))\n",
    "    print('Images chargés avec succés\\n')\n",
    "flat_data=np.array(flat_data_arr)\n",
    "target=np.array(target_arr)\n",
    "\n",
    "#Création d'un vecteur de support\n",
    "svc=svm.SVC(probability=True)\n",
    "svc.fit(flat_data,target)\n",
    "\n",
    "#une boucle pour tester tous les images à pédire\n",
    "for i in range(20):\n",
    "    url=input(\"saisir le chemin de l'image :\")\n",
    "    img=imread(url)\n",
    "    plt.imshow(img)\n",
    "    plt.show()\n",
    "    ret,img_binarised =cv2.threshold(img,128,1,cv2.THRESH_BINARY)\n",
    "    if Vehicules[svc.predict([img_binarised.flatten()])[0]] == 'obj_car':\n",
    "        print(\"L'image prédit est une voiture\\n\")\n",
    "    else:\n",
    "        print(\"L'image prédit est un bateau\\n\")"
   ]
  },
  {
   "cell_type": "code",
   "execution_count": null,
   "id": "5631be10",
   "metadata": {},
   "outputs": [],
   "source": []
  }
 ],
 "metadata": {
  "kernelspec": {
   "display_name": "Python 3",
   "language": "python",
   "name": "python3"
  },
  "language_info": {
   "codemirror_mode": {
    "name": "ipython",
    "version": 3
   },
   "file_extension": ".py",
   "mimetype": "text/x-python",
   "name": "python",
   "nbconvert_exporter": "python",
   "pygments_lexer": "ipython3",
   "version": "3.8.8"
  }
 },
 "nbformat": 4,
 "nbformat_minor": 5
}
